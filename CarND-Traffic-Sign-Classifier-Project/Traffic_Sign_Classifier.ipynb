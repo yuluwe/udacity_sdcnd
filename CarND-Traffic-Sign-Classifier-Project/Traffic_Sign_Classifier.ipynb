{
 "cells": [
  {
   "cell_type": "markdown",
   "metadata": {},
   "source": [
    "# Self-Driving Car Engineer Nanodegree\n",
    "\n",
    "## Deep Learning\n",
    "\n",
    "## Project: Build a Traffic Sign Recognition Classifier\n",
    "\n",
    "In this notebook, a template is provided for you to implement your functionality in stages, which is required to successfully complete this project. If additional code is required that cannot be included in the notebook, be sure that the Python code is successfully imported and included in your submission if necessary. \n",
    "\n",
    "> **Note**: Once you have completed all of the code implementations, you need to finalize your work by exporting the iPython Notebook as an HTML document. Before exporting the notebook to html, all of the code cells need to have been run so that reviewers can see the final implementation and output. You can then export the notebook by using the menu above and navigating to  \\n\",\n",
    "    \"**File -> Download as -> HTML (.html)**. Include the finished document along with this notebook as your submission. \n",
    "\n",
    "In addition to implementing code, there is a writeup to complete. The writeup should be completed in a separate file, which can be either a markdown file or a pdf document. There is a [write up template](https://github.com/udacity/CarND-Traffic-Sign-Classifier-Project/blob/master/writeup_template.md) that can be used to guide the writing process. Completing the code template and writeup template will cover all of the [rubric points](https://review.udacity.com/#!/rubrics/481/view) for this project.\n",
    "\n",
    "The [rubric](https://review.udacity.com/#!/rubrics/481/view) contains \"Stand Out Suggestions\" for enhancing the project beyond the minimum requirements. The stand out suggestions are optional. If you decide to pursue the \"stand out suggestions\", you can include the code in this Ipython notebook and also discuss the results in the writeup file.\n",
    "\n",
    "\n",
    ">**Note:** Code and Markdown cells can be executed using the **Shift + Enter** keyboard shortcut. In addition, Markdown cells can be edited by typically double-clicking the cell to enter edit mode."
   ]
  },
  {
   "cell_type": "markdown",
   "metadata": {},
   "source": [
    "---\n",
    "## Step 0: Load The Data"
   ]
  },
  {
   "cell_type": "code",
   "execution_count": 1,
   "metadata": {
    "collapsed": false
   },
   "outputs": [],
   "source": [
    "# Load pickled data\n",
    "import pickle\n",
    "import numpy as np\n",
    "import random\n",
    "#import cv2\n",
    "import math\n",
    "import tensorflow as tf\n",
    "from sklearn.utils import shuffle\n",
    "from skimage import transform as tform\n",
    "\n",
    "# TODO: Fill this in based on where you saved the training and testing data\n",
    "\n",
    "training_file = 'train.p'\n",
    "validation_file = 'valid.p'\n",
    "testing_file = 'test.p'\n",
    "\n",
    "with open(training_file, mode='rb') as f:\n",
    "    train = pickle.load(f)\n",
    "with open(validation_file, mode='rb') as f:\n",
    "    valid = pickle.load(f)\n",
    "with open(testing_file, mode='rb') as f:\n",
    "    test = pickle.load(f)\n",
    "    \n",
    "X_train, y_train = train['features'], train['labels']\n",
    "X_valid, y_valid = valid['features'], valid['labels']\n",
    "X_test, y_test = test['features'], test['labels']"
   ]
  },
  {
   "cell_type": "markdown",
   "metadata": {},
   "source": [
    "---\n",
    "\n",
    "## Step 1: Dataset Summary & Exploration\n",
    "\n",
    "The pickled data is a dictionary with 4 key/value pairs:\n",
    "\n",
    "- `'features'` is a 4D array containing raw pixel data of the traffic sign images, (num examples, width, height, channels).\n",
    "- `'labels'` is a 1D array containing the label/class id of the traffic sign. The file `signnames.csv` contains id -> name mappings for each id.\n",
    "- `'sizes'` is a list containing tuples, (width, height) representing the original width and height the image.\n",
    "- `'coords'` is a list containing tuples, (x1, y1, x2, y2) representing coordinates of a bounding box around the sign in the image. **THESE COORDINATES ASSUME THE ORIGINAL IMAGE. THE PICKLED DATA CONTAINS RESIZED VERSIONS (32 by 32) OF THESE IMAGES**\n",
    "\n",
    "Complete the basic data summary below. Use python, numpy and/or pandas methods to calculate the data summary rather than hard coding the results. For example, the [pandas shape method](http://pandas.pydata.org/pandas-docs/stable/generated/pandas.DataFrame.shape.html) might be useful for calculating some of the summary results. "
   ]
  },
  {
   "cell_type": "markdown",
   "metadata": {},
   "source": [
    "### Provide a Basic Summary of the Data Set Using Python, Numpy and/or Pandas"
   ]
  },
  {
   "cell_type": "code",
   "execution_count": 2,
   "metadata": {
    "collapsed": false
   },
   "outputs": [
    {
     "name": "stdout",
     "output_type": "stream",
     "text": [
      "Number of training examples = 34799\n",
      "Number of validation examples = 4410\n",
      "Number of testing examples = 12630\n",
      "Image data shape = (32, 32, 3)\n",
      "Number of classes = 43\n"
     ]
    }
   ],
   "source": [
    "### Replace each question mark with the appropriate value. \n",
    "### Use python, pandas or numpy methods rather than hard coding the results\n",
    "\n",
    "# TODO: Number of training examples\n",
    "n_train = len(X_train)\n",
    "\n",
    "# TODO: Number of validation examples\n",
    "n_validation = len(X_valid)\n",
    "\n",
    "# TODO: Number of testing examples.\n",
    "n_test = len(X_test)\n",
    "\n",
    "# TODO: What's the shape of an traffic sign image?\n",
    "image_shape = X_train[0].shape\n",
    "\n",
    "# TODO: How many unique classes/labels there are in the dataset.\n",
    "n_classes = max(y_test) + 1\n",
    "\n",
    "print(\"Number of training examples =\", n_train)\n",
    "print(\"Number of validation examples =\", n_validation)\n",
    "print(\"Number of testing examples =\", n_test)\n",
    "print(\"Image data shape =\", image_shape)\n",
    "print(\"Number of classes =\", n_classes)"
   ]
  },
  {
   "cell_type": "markdown",
   "metadata": {},
   "source": [
    "### Include an exploratory visualization of the dataset"
   ]
  },
  {
   "cell_type": "markdown",
   "metadata": {},
   "source": [
    "Visualize the German Traffic Signs Dataset using the pickled file(s). This is open ended, suggestions include: plotting traffic sign images, plotting the count of each sign, etc. \n",
    "\n",
    "The [Matplotlib](http://matplotlib.org/) [examples](http://matplotlib.org/examples/index.html) and [gallery](http://matplotlib.org/gallery.html) pages are a great resource for doing visualizations in Python.\n",
    "\n",
    "**NOTE:** It's recommended you start with something simple first. If you wish to do more, come back to it after you've completed the rest of the sections. It can be interesting to look at the distribution of classes in the training, validation and test set. Is the distribution the same? Are there more examples of some classes than others?"
   ]
  },
  {
   "cell_type": "code",
   "execution_count": 3,
   "metadata": {
    "collapsed": false
   },
   "outputs": [
    {
     "name": "stdout",
     "output_type": "stream",
     "text": [
      "2\n"
     ]
    },
    {
     "data": {
      "image/png": "[encoded data removed]",
      "text/plain": [
       "<matplotlib.figure.Figure at 0x7f9bfd16e438>"
      ]
     },
     "metadata": {},
     "output_type": "display_data"
    }
   ],
   "source": [
    "### Data exploration visualization code goes here.\n",
    "### Feel free to use as many code cells as needed.\n",
    "import matplotlib.pyplot as plt\n",
    "# Visualizations will be shown in the notebook.\n",
    "%matplotlib inline\n",
    "\n",
    "index = random.randint(0, len(X_train))\n",
    "img = X_train[index].squeeze()\n",
    "plt.figure(figsize=(1,1))\n",
    "plt.imshow(img)\n",
    "print(y_train[index])"
   ]
  },
  {
   "cell_type": "markdown",
   "metadata": {},
   "source": [
    "----\n",
    "\n",
    "## Step 2: Design and Test a Model Architecture\n",
    "\n",
    "Design and implement a deep learning model that learns to recognize traffic signs. Train and test your model on the [German Traffic Sign Dataset](http://benchmark.ini.rub.de/?section=gtsrb&subsection=dataset).\n",
    "\n",
    "The LeNet-5 implementation shown in the [classroom](https://classroom.udacity.com/nanodegrees/nd013/parts/fbf77062-5703-404e-b60c-95b78b2f3f9e/modules/6df7ae49-c61c-4bb2-a23e-6527e69209ec/lessons/601ae704-1035-4287-8b11-e2c2716217ad/concepts/d4aca031-508f-4e0b-b493-e7b706120f81) at the end of the CNN lesson is a solid starting point. You'll have to change the number of classes and possibly the preprocessing, but aside from that it's plug and play! \n",
    "\n",
    "With the LeNet-5 solution from the lecture, you should expect a validation set accuracy of about 0.89. To meet specifications, the validation set accuracy will need to be at least 0.93. It is possible to get an even higher accuracy, but 0.93 is the minimum for a successful project submission. \n",
    "\n",
    "There are various aspects to consider when thinking about this problem:\n",
    "\n",
    "- Neural network architecture (is the network over or underfitting?)\n",
    "- Play around preprocessing techniques (normalization, rgb to grayscale, etc)\n",
    "- Number of examples per label (some have more than others).\n",
    "- Generate fake data.\n",
    "\n",
    "Here is an example of a [published baseline model on this problem](http://yann.lecun.com/exdb/publis/pdf/sermanet-ijcnn-11.pdf). It's not required to be familiar with the approach used in the paper but, it's good practice to try to read papers like these."
   ]
  },
  {
   "cell_type": "markdown",
   "metadata": {},
   "source": [
    "### Pre-process the Data Set (normalization, grayscale, etc.)"
   ]
  },
  {
   "cell_type": "markdown",
   "metadata": {},
   "source": [
    "Minimally, the image data should be normalized so that the data has mean zero and equal variance. For image data, `(pixel - 128)/ 128` is a quick way to approximately normalize the data and can be used in this project. \n",
    "\n",
    "Other pre-processing steps are optional. You can try different techniques to see if it improves performance. \n",
    "\n",
    "Use the code cell (or multiple code cells, if necessary) to implement the first step of your project."
   ]
  },
  {
   "cell_type": "code",
   "execution_count": 4,
   "metadata": {
    "collapsed": true
   },
   "outputs": [],
   "source": [
    "from scipy.misc import imrotate\n",
    "\n",
    "\n",
    "def img_grayscale(imgset):\n",
    "    \n",
    "    result = 0.299*imgset[:,:,:,0] + 0.587*imgset[:,:,:,1] + 0.114*imgset[:,:,:,2]\n",
    "    return result\n",
    "\n",
    "def img_rotate(imgset):\n",
    "    result = imgset * 1.\n",
    "    num = len(result)\n",
    "    for i in range(0, num):\n",
    "        angle = random.randint(-60, 60)\n",
    "        result[i] = imrotate(result[i], angle, interp='bilinear')\n",
    "    return result\n",
    "\n",
    "def img_holes(imgset):\n",
    "    result = imgset * 1.\n",
    "    num = len(imgset)\n",
    "    for i in range(0, num):\n",
    "        x = random.randint(12, 20)\n",
    "        y = random.randint(12, 20)\n",
    "        result[i][x-2:x+2,y-2:y+2] = 0\n",
    "    return result\n",
    "\n",
    "def img_project(imgset):\n",
    "    result = imgset * 1.\n",
    "    num = len(imgset)\n",
    "    for i in range(0, num):\n",
    "        # Define the range of dst points\n",
    "        p1x = random.randint(0,8)\n",
    "        p1y = random.randint(0,8)\n",
    "        p2x = random.randint(0,8)\n",
    "        p2y = random.randint(24,32)\n",
    "        p3x = random.randint(24,32)\n",
    "        p3y = random.randint(24,32)\n",
    "        p4x = random.randint(24,32)\n",
    "        p4y = random.randint(0,8)\n",
    "        \n",
    "        src = np.array([[0,0], [0,32], [32,32], [32,0]])\n",
    "        dst = np.array([[p1x,p1y], [p2x,p2y], [p3x,p3y], [p4x,p4y]])\n",
    "        transf = tform.ProjectiveTransform()\n",
    "        transf.estimate(src, dst)\n",
    "        result[i] = tform.warp(result[i], transf, output_shape=(32,32), order=1, mode='edge')\n",
    "        \n",
    "    return result\n",
    "    \n",
    "def img_norm(imgset):\n",
    "    result = (imgset) / 255.\n",
    "    return result\n",
    "\n",
    "def img_append_and_preprocess(imgset1, imgset2):\n",
    "    gray = img_grayscale(imgset1)\n",
    "    rot = img_rotate(gray)\n",
    "    hole = img_holes(gray)\n",
    "    projection = img_project(gray)\n",
    "    \n",
    "    result1 = np.append(gray, rot, axis=0)\n",
    "    result1 = np.append(result1, hole, axis=0)\n",
    "    result1 = np.append(result1, projection, axis=0)\n",
    "    result1 = result1.reshape(result1.shape+(1,))\n",
    "    result1 = img_norm(result1)\n",
    "    \n",
    "    result2 = np.append(imgset2, imgset2, axis=0)\n",
    "    result2 = np.append(result2, imgset2, axis=0)\n",
    "    result2 = np.append(result2, imgset2, axis=0)    \n",
    "    return (result1, result2)\n"
   ]
  },
  {
   "cell_type": "code",
   "execution_count": 5,
   "metadata": {
    "collapsed": true
   },
   "outputs": [],
   "source": [
    "### Preprocess the data here. It is required to normalize the data. Other preprocessing steps could include \n",
    "### converting to grayscale, etc.\n",
    "### Feel free to use as many code cells as needed.\n",
    "\n",
    "X_train_new, y_train_new = img_append_and_preprocess(X_train, y_train)\n",
    "X_valid_new, y_valid_new = img_append_and_preprocess(X_valid, y_valid)\n",
    "X_test_new, y_test_new = img_append_and_preprocess(X_test, y_test)"
   ]
  },
  {
   "cell_type": "code",
   "execution_count": 6,
   "metadata": {
    "collapsed": true
   },
   "outputs": [],
   "source": [
    "assert len(X_train_new) == len(y_train_new)\n",
    "assert len(X_valid_new) == len(y_valid_new)\n",
    "assert len(X_test_new) == len(y_test_new)"
   ]
  },
  {
   "cell_type": "code",
   "execution_count": 7,
   "metadata": {
    "collapsed": false
   },
   "outputs": [
    {
     "name": "stdout",
     "output_type": "stream",
     "text": [
      "Show a image from the grayscale set\n"
     ]
    },
    {
     "data": {
      "image/png": "[encoded data removed]",
      "text/plain": [
       "<matplotlib.figure.Figure at 0x7f9bfa7360f0>"
      ]
     },
     "metadata": {},
     "output_type": "display_data"
    }
   ],
   "source": [
    "plt.imshow(X_valid_new[50+4410*0].squeeze(), cmap=\"gray\")\n",
    "print(\"Show a image from the grayscale set\")"
   ]
  },
  {
   "cell_type": "code",
   "execution_count": 8,
   "metadata": {
    "collapsed": false
   },
   "outputs": [
    {
     "name": "stdout",
     "output_type": "stream",
     "text": [
      "Show a image from the rotation set\n"
     ]
    },
    {
     "data": {
      "image/png": "[encoded data removed]",
      "text/plain": [
       "<matplotlib.figure.Figure at 0x7f9bfa425780>"
      ]
     },
     "metadata": {},
     "output_type": "display_data"
    }
   ],
   "source": [
    "plt.imshow(X_valid_new[50+4410*1].squeeze(), cmap=\"gray\")\n",
    "print(\"Show a image from the rotation set\")"
   ]
  },
  {
   "cell_type": "code",
   "execution_count": 9,
   "metadata": {
    "collapsed": false
   },
   "outputs": [
    {
     "name": "stdout",
     "output_type": "stream",
     "text": [
      "Show a image from the hole cutting set\n"
     ]
    },
    {
     "data": {
      "image/png": "[encoded data removed]",
      "text/plain": [
       "<matplotlib.figure.Figure at 0x7f9bfa3a6828>"
      ]
     },
     "metadata": {},
     "output_type": "display_data"
    }
   ],
   "source": [
    "plt.imshow(X_valid_new[50+4410*2].squeeze(), cmap=\"gray\")\n",
    "print(\"Show a image from the hole cutting set\")"
   ]
  },
  {
   "cell_type": "code",
   "execution_count": 10,
   "metadata": {
    "collapsed": false
   },
   "outputs": [
    {
     "name": "stdout",
     "output_type": "stream",
     "text": [
      "Show a image from the projection set\n"
     ]
    },
    {
     "data": {
      "image/png": "[encoded data removed]",
      "text/plain": [
       "<matplotlib.figure.Figure at 0x7f9bfa310860>"
      ]
     },
     "metadata": {},
     "output_type": "display_data"
    }
   ],
   "source": [
    "plt.imshow(X_valid_new[50+4410*3].squeeze(), cmap=\"gray\")\n",
    "print(\"Show a image from the projection set\")"
   ]
  },
  {
   "cell_type": "markdown",
   "metadata": {},
   "source": [
    "### Model Architecture"
   ]
  },
  {
   "cell_type": "code",
   "execution_count": 11,
   "metadata": {
    "collapsed": true
   },
   "outputs": [],
   "source": [
    "### Define your architecture here.\n",
    "### Feel free to use as many code cells as needed.\n",
    "\n",
    "from tensorflow.contrib.layers import flatten\n",
    "\n",
    "def LeNet_new(x, keep_probC1, keep_probC2, keep_probC3, keep_probF1):\n",
    "    mu = 0\n",
    "    sigma = 0.01\n",
    "    \n",
    "    ##############################################\n",
    "    # Layer 1 Convolution: From 32x32x1 To 32x32x32\n",
    "    ##############################################\n",
    "    L1_w = tf.Variable(tf.truncated_normal(shape=(5, 5, 1, 32), mean = mu, stddev= sigma))\n",
    "    L1_b = tf.Variable(tf.zeros(32))\n",
    "    Conv1 = tf.nn.conv2d(x, \n",
    "                         L1_w,\n",
    "                         strides = [1, 1, 1, 1],\n",
    "                         padding = 'SAME') + L1_b\n",
    "    \n",
    "    # Layer 1 Apply Activation, Maxpooling, and Dropout: From 32x32x32 to 16x16x32\n",
    "    Conv1 = tf.nn.relu(Conv1)\n",
    "    Conv1 = tf.nn.max_pool(Conv1,\n",
    "                           ksize = [1, 2, 2, 1],\n",
    "                           strides = [1, 2, 2, 1], \n",
    "                           padding = 'SAME')\n",
    "    Conv1 = tf.nn.dropout(Conv1, keep_probC1)\n",
    "    ##############################################\n",
    "    \n",
    "    \n",
    "    ##############################################\n",
    "    # Layer 2 Convolution: From 16x16x32 To 16x16x64\n",
    "    ##############################################\n",
    "    L2_w = tf.Variable(tf.truncated_normal(shape=(5, 5, 32, 64), mean = mu, stddev= sigma))\n",
    "    L2_b = tf.Variable(tf.zeros(64))\n",
    "    Conv2 = tf.nn.conv2d(Conv1, \n",
    "                         L2_w,\n",
    "                         strides = [1, 1, 1, 1],\n",
    "                         padding = 'SAME') + L2_b\n",
    "    \n",
    "    # Layer 2 Apply Activation, Maxpooling, and Dropout: From 16x16x64 to 8x8x64\n",
    "    Conv2 = tf.nn.relu(Conv2)\n",
    "    Conv2 = tf.nn.max_pool(Conv2,\n",
    "                           ksize = [1, 2, 2, 1],\n",
    "                           strides = [1, 2, 2, 1], \n",
    "                           padding = 'SAME')\n",
    "    Conv2 = tf.nn.dropout(Conv2, keep_probC2)\n",
    "    ##############################################    \n",
    "    \n",
    "    \n",
    "    ##############################################\n",
    "    # Layer 3 Convolution: From 8x8x64 To 8x8x128\n",
    "    ##############################################\n",
    "    L3_w = tf.Variable(tf.truncated_normal(shape=(5, 5, 64, 128), mean = mu, stddev= sigma))\n",
    "    L3_b = tf.Variable(tf.zeros(128))\n",
    "    Conv3 = tf.nn.conv2d(Conv2, \n",
    "                         L3_w,\n",
    "                         strides = [1, 1, 1, 1],\n",
    "                         padding = 'SAME') + L3_b\n",
    "    \n",
    "    # Layer 3 Apply Activation, Maxpooling, and Dropout: From 8x8x128 to 4x4x128 and Flatten to 2048\n",
    "    Conv3 = tf.nn.relu(Conv3)\n",
    "    Conv3 = tf.nn.max_pool(Conv3,\n",
    "                           ksize = [1, 2, 2, 1],\n",
    "                           strides = [1, 2, 2, 1], \n",
    "                           padding = 'VALID')\n",
    "    Conv3 = tf.nn.dropout(Conv3, keep_probC3)\n",
    "    \n",
    "    Flatten = flatten(Conv3)\n",
    "    ##############################################  \n",
    "    \n",
    "    \n",
    "    ##############################################\n",
    "    # Layer 4 Fully Connected: From 1024 To 512\n",
    "    ##############################################\n",
    "    L4_w = tf.Variable(tf.truncated_normal(shape=(2048, 512), mean = mu, stddev= sigma))\n",
    "    L4_b = tf.Variable(tf.zeros(512))\n",
    "    Fc1 = tf.matmul(Flatten, L4_w) + L4_b\n",
    "    \n",
    "    # Layer 3 Apply Activation and Dropout\n",
    "    Fc1 = tf.nn.relu(Fc1)\n",
    "    Fc1 = tf.nn.dropout(Fc1, keep_probF1)\n",
    "    ##############################################   \n",
    "    \n",
    "    \n",
    "    ##############################################\n",
    "    # Layer 5 Fully Connected: From 512 To 256\n",
    "    ##############################################\n",
    "    #L5_w = tf.Variable(tf.truncated_normal(shape=(512, 256), mean = mu, stddev= sigma))\n",
    "    #L5_b = tf.Variable(tf.zeros(256))\n",
    "    #Fc2 = tf.matmul(Fc1, L5_w) + L5_b\n",
    "    \n",
    "    # Layer 5 Apply Activation and Dropout\n",
    "    #Fc2 = tf.nn.relu(Fc2)\n",
    "    #Fc2 = tf.nn.dropout(Fc2, keep_prob)\n",
    "    ############################################## \n",
    "    \n",
    "\n",
    "    ##############################################\n",
    "    # Layer 6 Fully Connected Output Layer: From 256 To num_class(43)\n",
    "    ##############################################\n",
    "    L6_w = tf.Variable(tf.truncated_normal(shape=(512, 43), mean = mu, stddev= sigma))\n",
    "    L6_b = tf.Variable(tf.zeros(43))\n",
    "    output = tf.matmul(Fc1, L6_w) + L6_b\n",
    "    ############################################## \n",
    "    \n",
    "    return (output, L4_w, L6_w)"
   ]
  },
  {
   "cell_type": "markdown",
   "metadata": {},
   "source": [
    "### Train, Validate and Test the Model"
   ]
  },
  {
   "cell_type": "markdown",
   "metadata": {},
   "source": [
    "A validation set can be used to assess how well the model is performing. A low accuracy on the training and validation\n",
    "sets imply underfitting. A high accuracy on the training set but low accuracy on the validation set implies overfitting."
   ]
  },
  {
   "cell_type": "code",
   "execution_count": 15,
   "metadata": {
    "collapsed": true
   },
   "outputs": [],
   "source": [
    "### Train your model here.\n",
    "### Calculate and report the accuracy on the training and validation set.\n",
    "### Once a final model architecture is selected, \n",
    "### the accuracy on the test set should be calculated and reported as well.\n",
    "### Feel free to use as many code cells as needed.\n",
    "\n",
    "##########################\n",
    "# Build the Neural Network\n",
    "##########################\n",
    "\n",
    "# Picking Training Data\n",
    "length = len(X_train_new)\n",
    "X_train_new, y_train_new = shuffle(X_train_new, y_train_new)\n",
    "X_train_input = X_train_new[0:int(length*3/3)]\n",
    "y_train_input = y_train_new[0:int(length*3/3)]\n",
    "\n",
    "# Hyper-parameters\n",
    "epochs = 100\n",
    "batch_size = 256\n",
    "beta = 0.0001\n",
    "learning_rate = 0.001\n",
    "Con1 = 0.9\n",
    "Con2 = 0.7\n",
    "Con3 = 0.5\n",
    "F1 = 0.5\n",
    "early_save = 0\n",
    "\n",
    "# Inputs\n",
    "x = tf.placeholder(tf.float32, (None, 32, 32, 1), name='x')\n",
    "y = tf.placeholder(tf.int32, (None), name='y')\n",
    "one_hot_y = tf.one_hot(y, 43)\n",
    "\n",
    "learn_rate = tf.placeholder(tf.float32, name='learn_rate')\n",
    "keep_probC1 = tf.placeholder(tf.float32, name='keep_probC1')\n",
    "keep_probC2 = tf.placeholder(tf.float32, name='keep_probC2')\n",
    "keep_probC3 = tf.placeholder(tf.float32, name='keep_probC3')\n",
    "keep_probF1 = tf.placeholder(tf.float32, name='keep_probF1')\n",
    "\n",
    "# Model\n",
    "logits, w1, w2 = LeNet_new(x, keep_probC1, keep_probC2, keep_probC3, keep_probF1)\n",
    "\n",
    "# Name logits Tensor, so that is can be loaded from disk after training\n",
    "logits = tf.identity(logits, name='logits')\n",
    "\n",
    "# Loss and Optimizer\n",
    "cost = tf.reduce_mean(tf.nn.softmax_cross_entropy_with_logits(labels=one_hot_y, logits=logits))\n",
    "L2_fc1 = tf.nn.l2_loss(w1)\n",
    "L2_out = tf.nn.l2_loss(w2)\n",
    "cost_withL2 = tf.reduce_mean(cost + beta*(L2_fc1+L2_out) )\n",
    "optimizer = tf.train.AdamOptimizer(learning_rate=learn_rate).minimize(cost_withL2)\n",
    "\n",
    "# Accuracy\n",
    "correct_pred = tf.equal(tf.argmax(logits, 1), tf.argmax(one_hot_y, 1))\n",
    "accuracy = tf.reduce_mean(tf.cast(correct_pred, tf.float32), name='accuracy')"
   ]
  },
  {
   "cell_type": "code",
   "execution_count": 16,
   "metadata": {
    "collapsed": true
   },
   "outputs": [],
   "source": [
    "#############################\n",
    "# Evaluate the Neural Network\n",
    "#############################  \n",
    "saver = tf.train.Saver()\n",
    "def evaluate(X_data, y_data):\n",
    "    num_examples = len(X_data)\n",
    "    total_accuracy = 0\n",
    "    sess = tf.get_default_session()\n",
    "    for offset in range(0, num_examples, batch_size):\n",
    "        batch_x, batch_y = X_data[offset:offset+batch_size], y_data[offset:offset+batch_size]\n",
    "        test_acc = sess.run(accuracy, feed_dict={x: batch_x, \n",
    "                                                 y: batch_y,\n",
    "                                                 keep_probC1: 1.0,\n",
    "                                                 keep_probC2: 1.0,\n",
    "                                                 keep_probC3: 1.0,\n",
    "                                                 keep_probF1: 1.0})\n",
    "        total_accuracy += (test_acc * len(batch_x))\n",
    "    return total_accuracy / num_examples"
   ]
  },
  {
   "cell_type": "code",
   "execution_count": 17,
   "metadata": {
    "collapsed": false,
    "scrolled": false
   },
   "outputs": [
    {
     "name": "stdout",
     "output_type": "stream",
     "text": [
      "Training... 139196\n",
      "EPOCH 1 ...\n",
      "Validation Accuracy = 0.172959\n",
      "Learning_rate = 0.001\n",
      "EPOCH 2 ...\n",
      "Validation Accuracy = 0.652268\n",
      "Learning_rate = 0.001\n",
      "EPOCH 3 ...\n",
      "Validation Accuracy = 0.783560\n",
      "Learning_rate = 0.001\n",
      "EPOCH 4 ...\n",
      "Validation Accuracy = 0.806973\n",
      "Learning_rate = 0.001\n",
      "EPOCH 5 ...\n",
      "Validation Accuracy = 0.845748\n",
      "Learning_rate = 0.001\n",
      "EPOCH 6 ...\n",
      "Validation Accuracy = 0.869671\n",
      "Learning_rate = 0.001\n",
      "EPOCH 7 ...\n",
      "Validation Accuracy = 0.876814\n",
      "Learning_rate = 0.001\n",
      "EPOCH 8 ...\n",
      "Validation Accuracy = 0.895465\n",
      "Learning_rate = 0.001\n",
      "EPOCH 9 ...\n",
      "Validation Accuracy = 0.906519\n",
      "Learning_rate = 0.001\n",
      "EPOCH 10 ...\n",
      "Validation Accuracy = 0.901077\n",
      "Learning_rate = 0.001\n",
      "EPOCH 11 ...\n",
      "Validation Accuracy = 0.906633\n",
      "Learning_rate = 0.001\n",
      "EPOCH 12 ...\n",
      "Validation Accuracy = 0.916893\n",
      "Learning_rate = 0.001\n",
      "EPOCH 13 ...\n",
      "Validation Accuracy = 0.922052\n",
      "Learning_rate = 0.001\n",
      "EPOCH 14 ...\n",
      "Validation Accuracy = 0.915590\n",
      "Learning_rate = 0.001\n",
      "EPOCH 15 ...\n",
      "Validation Accuracy = 0.929705\n",
      "Learning_rate = 0.001\n",
      "EPOCH 16 ...\n",
      "Validation Accuracy = 0.931803\n",
      "Learning_rate = 0.001\n",
      "Temp Model Saved\n",
      "Temporary Test Accuracy = 0.922625\n",
      "EPOCH 17 ...\n",
      "Validation Accuracy = 0.932880\n",
      "Learning_rate = 0.00025\n",
      "EPOCH 18 ...\n",
      "Validation Accuracy = 0.934014\n",
      "Learning_rate = 0.00025\n",
      "EPOCH 19 ...\n",
      "Validation Accuracy = 0.938549\n",
      "Learning_rate = 0.00025\n",
      "EPOCH 20 ...\n",
      "Validation Accuracy = 0.938265\n",
      "Learning_rate = 0.00025\n",
      "EPOCH 21 ...\n",
      "Validation Accuracy = 0.937472\n",
      "Learning_rate = 0.00025\n",
      "EPOCH 22 ...\n",
      "Validation Accuracy = 0.939456\n",
      "Learning_rate = 0.00025\n",
      "EPOCH 23 ...\n",
      "Validation Accuracy = 0.938776\n",
      "Learning_rate = 0.00025\n",
      "EPOCH 24 ...\n",
      "Validation Accuracy = 0.936621\n",
      "Learning_rate = 0.00025\n",
      "EPOCH 25 ...\n",
      "Validation Accuracy = 0.940136\n",
      "Learning_rate = 0.00025\n",
      "EPOCH 26 ...\n",
      "Validation Accuracy = 0.940306\n",
      "Learning_rate = 0.00025\n",
      "EPOCH 27 ...\n",
      "Validation Accuracy = 0.939739\n",
      "Learning_rate = 0.00025\n",
      "EPOCH 28 ...\n",
      "Validation Accuracy = 0.942177\n",
      "Learning_rate = 0.00025\n",
      "EPOCH 29 ...\n",
      "Validation Accuracy = 0.940816\n",
      "Learning_rate = 0.00025\n",
      "EPOCH 30 ...\n",
      "Validation Accuracy = 0.940420\n",
      "Learning_rate = 0.00025\n",
      "EPOCH 31 ...\n",
      "Validation Accuracy = 0.943141\n",
      "Learning_rate = 0.00025\n",
      "EPOCH 32 ...\n",
      "Validation Accuracy = 0.942914\n",
      "Learning_rate = 0.00025\n",
      "EPOCH 33 ...\n",
      "Validation Accuracy = 0.945578\n",
      "Learning_rate = 0.00025\n",
      "EPOCH 34 ...\n",
      "Validation Accuracy = 0.944728\n",
      "Learning_rate = 0.00025\n",
      "EPOCH 35 ...\n",
      "Validation Accuracy = 0.940306\n",
      "Learning_rate = 0.00025\n",
      "EPOCH 36 ...\n",
      "Validation Accuracy = 0.944841\n",
      "Learning_rate = 0.00025\n",
      "EPOCH 37 ...\n",
      "Validation Accuracy = 0.943764\n",
      "Learning_rate = 0.00025\n",
      "EPOCH 38 ...\n",
      "Validation Accuracy = 0.945635\n",
      "Learning_rate = 0.00025\n",
      "EPOCH 39 ...\n",
      "Validation Accuracy = 0.943367\n",
      "Learning_rate = 0.00025\n",
      "EPOCH 40 ...\n",
      "Validation Accuracy = 0.947449\n",
      "Learning_rate = 0.00025\n",
      "EPOCH 41 ...\n",
      "Validation Accuracy = 0.946542\n",
      "Learning_rate = 0.00025\n",
      "EPOCH 42 ...\n",
      "Validation Accuracy = 0.946769\n",
      "Learning_rate = 0.00025\n",
      "EPOCH 43 ...\n",
      "Validation Accuracy = 0.947392\n",
      "Learning_rate = 0.00025\n",
      "EPOCH 44 ...\n",
      "Validation Accuracy = 0.948016\n",
      "Learning_rate = 0.00025\n",
      "EPOCH 45 ...\n",
      "Validation Accuracy = 0.946655\n",
      "Learning_rate = 0.00025\n",
      "EPOCH 46 ...\n",
      "Validation Accuracy = 0.945295\n",
      "Learning_rate = 0.00025\n",
      "EPOCH 47 ...\n",
      "Validation Accuracy = 0.945805\n",
      "Learning_rate = 0.00025\n",
      "EPOCH 48 ...\n",
      "Validation Accuracy = 0.941780\n",
      "Learning_rate = 0.00025\n",
      "EPOCH 49 ...\n",
      "Validation Accuracy = 0.947052\n",
      "Learning_rate = 0.00025\n",
      "EPOCH 50 ...\n",
      "Validation Accuracy = 0.945975\n",
      "Learning_rate = 0.00025\n",
      "EPOCH 51 ...\n",
      "Validation Accuracy = 0.948073\n",
      "Learning_rate = 0.00025\n",
      "EPOCH 52 ...\n",
      "Validation Accuracy = 0.946259\n",
      "Learning_rate = 0.00025\n",
      "EPOCH 53 ...\n",
      "Validation Accuracy = 0.948469\n",
      "Learning_rate = 0.00025\n",
      "EPOCH 54 ...\n",
      "Validation Accuracy = 0.948980\n",
      "Learning_rate = 0.00025\n",
      "EPOCH 55 ...\n",
      "Validation Accuracy = 0.949546\n",
      "Learning_rate = 0.00025\n",
      "EPOCH 56 ...\n",
      "Validation Accuracy = 0.948186\n",
      "Learning_rate = 0.00025\n",
      "EPOCH 57 ...\n",
      "Validation Accuracy = 0.949206\n",
      "Learning_rate = 0.00025\n",
      "EPOCH 58 ...\n",
      "Validation Accuracy = 0.950340\n",
      "Learning_rate = 0.00025\n",
      "EPOCH 59 ...\n",
      "Validation Accuracy = 0.951587\n",
      "Learning_rate = 0.00025\n",
      "EPOCH 60 ...\n",
      "Validation Accuracy = 0.949717\n",
      "Learning_rate = 0.00025\n",
      "EPOCH 61 ...\n",
      "Validation Accuracy = 0.951474\n",
      "Learning_rate = 0.00025\n",
      "EPOCH 62 ...\n",
      "Validation Accuracy = 0.948526\n",
      "Learning_rate = 0.00025\n",
      "EPOCH 63 ...\n",
      "Validation Accuracy = 0.951757\n",
      "Learning_rate = 0.00025\n",
      "EPOCH 64 ...\n",
      "Validation Accuracy = 0.953005\n",
      "Learning_rate = 0.00025\n",
      "EPOCH 65 ...\n",
      "Validation Accuracy = 0.951701\n",
      "Learning_rate = 0.00025\n",
      "EPOCH 66 ...\n",
      "Validation Accuracy = 0.952324\n",
      "Learning_rate = 0.00025\n",
      "EPOCH 67 ...\n",
      "Validation Accuracy = 0.952834\n",
      "Learning_rate = 0.00025\n",
      "EPOCH 68 ...\n",
      "Validation Accuracy = 0.955612\n",
      "Learning_rate = 0.00025\n",
      "EPOCH 69 ...\n",
      "Validation Accuracy = 0.950907\n",
      "Learning_rate = 0.00025\n",
      "EPOCH 70 ...\n",
      "Validation Accuracy = 0.952268\n",
      "Learning_rate = 0.00025\n",
      "EPOCH 71 ...\n",
      "Validation Accuracy = 0.952494\n",
      "Learning_rate = 0.00025\n",
      "EPOCH 72 ...\n",
      "Validation Accuracy = 0.953798\n",
      "Learning_rate = 0.00025\n",
      "EPOCH 73 ...\n",
      "Validation Accuracy = 0.954478\n",
      "Learning_rate = 0.00025\n",
      "EPOCH 74 ...\n",
      "Validation Accuracy = 0.954478\n",
      "Learning_rate = 0.00025\n",
      "EPOCH 75 ...\n",
      "Validation Accuracy = 0.954365\n",
      "Learning_rate = 0.00025\n",
      "EPOCH 76 ...\n",
      "Validation Accuracy = 0.951701\n",
      "Learning_rate = 0.00025\n",
      "EPOCH 77 ...\n",
      "Validation Accuracy = 0.951417\n",
      "Learning_rate = 0.00025\n",
      "EPOCH 78 ...\n",
      "Validation Accuracy = 0.952551\n",
      "Learning_rate = 0.00025\n",
      "EPOCH 79 ...\n",
      "Validation Accuracy = 0.952041\n",
      "Learning_rate = 0.00025\n",
      "EPOCH 80 ...\n",
      "Validation Accuracy = 0.954138\n",
      "Learning_rate = 0.00025\n",
      "EPOCH 81 ...\n",
      "Validation Accuracy = 0.951644\n",
      "Learning_rate = 0.00025\n",
      "EPOCH 82 ...\n",
      "Validation Accuracy = 0.956406\n",
      "Learning_rate = 0.00025\n",
      "EPOCH 83 ...\n",
      "Validation Accuracy = 0.953175\n",
      "Learning_rate = 0.00025\n",
      "EPOCH 84 ...\n",
      "Validation Accuracy = 0.953741\n",
      "Learning_rate = 0.00025\n",
      "EPOCH 85 ...\n",
      "Validation Accuracy = 0.957256\n",
      "Learning_rate = 0.00025\n",
      "EPOCH 86 ...\n",
      "Validation Accuracy = 0.952721\n",
      "Learning_rate = 0.00025\n",
      "EPOCH 87 ...\n",
      "Validation Accuracy = 0.955952\n",
      "Learning_rate = 0.00025\n",
      "EPOCH 88 ...\n",
      "Validation Accuracy = 0.954535\n",
      "Learning_rate = 0.00025\n",
      "EPOCH 89 ...\n",
      "Validation Accuracy = 0.953458\n",
      "Learning_rate = 0.00025\n",
      "EPOCH 90 ...\n",
      "Validation Accuracy = 0.954422\n",
      "Learning_rate = 0.00025\n",
      "EPOCH 91 ...\n",
      "Validation Accuracy = 0.955215\n",
      "Learning_rate = 0.00025\n",
      "EPOCH 92 ...\n",
      "Validation Accuracy = 0.954252\n",
      "Learning_rate = 0.00025\n",
      "EPOCH 93 ...\n",
      "Validation Accuracy = 0.954819\n",
      "Learning_rate = 0.00025\n",
      "EPOCH 94 ...\n",
      "Validation Accuracy = 0.954308\n",
      "Learning_rate = 0.00025\n",
      "EPOCH 95 ...\n",
      "Validation Accuracy = 0.957766\n",
      "Learning_rate = 0.00025\n",
      "EPOCH 96 ...\n",
      "Validation Accuracy = 0.956859\n",
      "Learning_rate = 0.00025\n",
      "EPOCH 97 ...\n",
      "Validation Accuracy = 0.955442\n",
      "Learning_rate = 0.00025\n",
      "EPOCH 98 ...\n",
      "Validation Accuracy = 0.955329\n",
      "Learning_rate = 0.00025\n",
      "EPOCH 99 ...\n",
      "Validation Accuracy = 0.957029\n",
      "Learning_rate = 0.00025\n",
      "EPOCH 100 ...\n",
      "Validation Accuracy = 0.956519\n",
      "Learning_rate = 0.00025\n",
      "Model Saved\n"
     ]
    }
   ],
   "source": [
    "##########################\n",
    "# Train the Neural Network\n",
    "##########################\n",
    "\n",
    "with tf.Session() as sess:\n",
    "    sess.run(tf.global_variables_initializer())\n",
    "    num_examples = len(X_train_input)\n",
    "    \n",
    "    print(\"Training... {}\".format(num_examples))\n",
    "    for i in range(epochs):\n",
    "        X_train_input, y_train_input = shuffle(X_train_input, y_train_input)\n",
    "        for offset in range(0, num_examples, batch_size):\n",
    "            end = offset + batch_size\n",
    "            batch_x, batch_y = X_train_new[offset:end], y_train_new[offset:end]\n",
    "            sess.run(optimizer, feed_dict={x: batch_x, \n",
    "                                           y: batch_y,\n",
    "                                           keep_probC1: Con1,\n",
    "                                           keep_probC2: Con2,\n",
    "                                           keep_probC3: Con3,\n",
    "                                           keep_probF1: F1,\n",
    "                                           learn_rate: learning_rate})\n",
    "            \n",
    "        print(\"EPOCH {} ...\".format(i+1))\n",
    "        valid_accuracy = evaluate(X_valid_new, y_valid_new)\n",
    "        print(\"Validation Accuracy = {:.6f}\".format(valid_accuracy))\n",
    "        print(\"Learning_rate = {}\".format(learning_rate))\n",
    "        if (valid_accuracy > 0.93) and (early_save == 0):\n",
    "            saver.save(sess, './lenet')\n",
    "            print(\"Temp Model Saved\")\n",
    "            early_save = 1\n",
    "            learning_rate = 0.00025\n",
    "            temp_test_accuracy = evaluate(X_test_new, y_test_new)\n",
    "            print(\"Temporary Test Accuracy = {:.6f}\".format(temp_test_accuracy))\n",
    "        \n",
    "    saver.save(sess, './lenet')\n",
    "    print(\"Model Saved\")"
   ]
  },
  {
   "cell_type": "code",
   "execution_count": 30,
   "metadata": {
    "collapsed": false
   },
   "outputs": [
    {
     "name": "stdout",
     "output_type": "stream",
     "text": [
      "INFO:tensorflow:Restoring parameters from ./lenet\n",
      "Test Accuracy = 0.944814\n"
     ]
    }
   ],
   "source": [
    "with tf.Session() as sess:\n",
    "    saver.restore(sess, tf.train.latest_checkpoint('.'))\n",
    "\n",
    "    test_accuracy = evaluate(X_test_new, y_test_new)\n",
    "    print(\"Test Accuracy = {:.6f}\".format(test_accuracy))"
   ]
  },
  {
   "cell_type": "markdown",
   "metadata": {},
   "source": [
    "---\n",
    "\n",
    "## Step 3: Test a Model on New Images\n",
    "\n",
    "To give yourself more insight into how your model is working, download at least five pictures of German traffic signs from the web and use your model to predict the traffic sign type.\n",
    "\n",
    "You may find `signnames.csv` useful as it contains mappings from the class id (integer) to the actual sign name."
   ]
  },
  {
   "cell_type": "markdown",
   "metadata": {},
   "source": [
    "### Load and Output the Images"
   ]
  },
  {
   "cell_type": "code",
   "execution_count": null,
   "metadata": {
    "collapsed": false
   },
   "outputs": [],
   "source": [
    "### Load the images and plot them here.\n",
    "### Feel free to use as many code cells as needed.\n",
    "import matplotlib.image as mpimg\n",
    "image = mpimg.imread('new_images/solidWhiteRight.jpg')\n"
   ]
  },
  {
   "cell_type": "markdown",
   "metadata": {},
   "source": [
    "### Predict the Sign Type for Each Image"
   ]
  },
  {
   "cell_type": "code",
   "execution_count": null,
   "metadata": {
    "collapsed": true
   },
   "outputs": [],
   "source": [
    "### Run the predictions here and use the model to output the prediction for each image.\n",
    "### Make sure to pre-process the images with the same pre-processing pipeline used earlier.\n",
    "### Feel free to use as many code cells as needed."
   ]
  },
  {
   "cell_type": "markdown",
   "metadata": {},
   "source": [
    "### Analyze Performance"
   ]
  },
  {
   "cell_type": "code",
   "execution_count": null,
   "metadata": {
    "collapsed": true
   },
   "outputs": [],
   "source": [
    "### Calculate the accuracy for these 5 new images. \n",
    "### For example, if the model predicted 1 out of 5 signs correctly, it's 20% accurate on these new images."
   ]
  },
  {
   "cell_type": "markdown",
   "metadata": {},
   "source": [
    "### Output Top 5 Softmax Probabilities For Each Image Found on the Web"
   ]
  },
  {
   "cell_type": "markdown",
   "metadata": {},
   "source": [
    "For each of the new images, print out the model's softmax probabilities to show the **certainty** of the model's predictions (limit the output to the top 5 probabilities for each image). [`tf.nn.top_k`](https://www.tensorflow.org/versions/r0.12/api_docs/python/nn.html#top_k) could prove helpful here. \n",
    "\n",
    "The example below demonstrates how tf.nn.top_k can be used to find the top k predictions for each image.\n",
    "\n",
    "`tf.nn.top_k` will return the values and indices (class ids) of the top k predictions. So if k=3, for each sign, it'll return the 3 largest probabilities (out of a possible 43) and the correspoding class ids.\n",
    "\n",
    "Take this numpy array as an example. The values in the array represent predictions. The array contains softmax probabilities for five candidate images with six possible classes. `tf.nn.top_k` is used to choose the three classes with the highest probability:\n",
    "\n",
    "```\n",
    "# (5, 6) array\n",
    "a = np.array([[ 0.24879643,  0.07032244,  0.12641572,  0.34763842,  0.07893497,\n",
    "         0.12789202],\n",
    "       [ 0.28086119,  0.27569815,  0.08594638,  0.0178669 ,  0.18063401,\n",
    "         0.15899337],\n",
    "       [ 0.26076848,  0.23664738,  0.08020603,  0.07001922,  0.1134371 ,\n",
    "         0.23892179],\n",
    "       [ 0.11943333,  0.29198961,  0.02605103,  0.26234032,  0.1351348 ,\n",
    "         0.16505091],\n",
    "       [ 0.09561176,  0.34396535,  0.0643941 ,  0.16240774,  0.24206137,\n",
    "         0.09155967]])\n",
    "```\n",
    "\n",
    "Running it through `sess.run(tf.nn.top_k(tf.constant(a), k=3))` produces:\n",
    "\n",
    "```\n",
    "TopKV2(values=array([[ 0.34763842,  0.24879643,  0.12789202],\n",
    "       [ 0.28086119,  0.27569815,  0.18063401],\n",
    "       [ 0.26076848,  0.23892179,  0.23664738],\n",
    "       [ 0.29198961,  0.26234032,  0.16505091],\n",
    "       [ 0.34396535,  0.24206137,  0.16240774]]), indices=array([[3, 0, 5],\n",
    "       [0, 1, 4],\n",
    "       [0, 5, 1],\n",
    "       [1, 3, 5],\n",
    "       [1, 4, 3]], dtype=int32))\n",
    "```\n",
    "\n",
    "Looking just at the first row we get `[ 0.34763842,  0.24879643,  0.12789202]`, you can confirm these are the 3 largest probabilities in `a`. You'll also notice `[3, 0, 5]` are the corresponding indices."
   ]
  },
  {
   "cell_type": "code",
   "execution_count": null,
   "metadata": {
    "collapsed": true
   },
   "outputs": [],
   "source": [
    "### Print out the top five softmax probabilities for the predictions on the German traffic sign images found on the web. \n",
    "### Feel free to use as many code cells as needed."
   ]
  },
  {
   "cell_type": "markdown",
   "metadata": {},
   "source": [
    "### Project Writeup\n",
    "\n",
    "Once you have completed the code implementation, document your results in a project writeup using this [template](https://github.com/udacity/CarND-Traffic-Sign-Classifier-Project/blob/master/writeup_template.md) as a guide. The writeup can be in a markdown or pdf file. "
   ]
  },
  {
   "cell_type": "markdown",
   "metadata": {},
   "source": [
    "> **Note**: Once you have completed all of the code implementations and successfully answered each question above, you may finalize your work by exporting the iPython Notebook as an HTML document. You can do this by using the menu above and navigating to  \\n\",\n",
    "    \"**File -> Download as -> HTML (.html)**. Include the finished document along with this notebook as your submission."
   ]
  },
  {
   "cell_type": "markdown",
   "metadata": {},
   "source": [
    "---\n",
    "\n",
    "## Step 4 (Optional): Visualize the Neural Network's State with Test Images\n",
    "\n",
    " This Section is not required to complete but acts as an additional excersise for understaning the output of a neural network's weights. While neural networks can be a great learning device they are often referred to as a black box. We can understand what the weights of a neural network look like better by plotting their feature maps. After successfully training your neural network you can see what it's feature maps look like by plotting the output of the network's weight layers in response to a test stimuli image. From these plotted feature maps, it's possible to see what characteristics of an image the network finds interesting. For a sign, maybe the inner network feature maps react with high activation to the sign's boundary outline or to the contrast in the sign's painted symbol.\n",
    "\n",
    " Provided for you below is the function code that allows you to get the visualization output of any tensorflow weight layer you want. The inputs to the function should be a stimuli image, one used during training or a new one you provided, and then the tensorflow variable name that represents the layer's state during the training process, for instance if you wanted to see what the [LeNet lab's](https://classroom.udacity.com/nanodegrees/nd013/parts/fbf77062-5703-404e-b60c-95b78b2f3f9e/modules/6df7ae49-c61c-4bb2-a23e-6527e69209ec/lessons/601ae704-1035-4287-8b11-e2c2716217ad/concepts/d4aca031-508f-4e0b-b493-e7b706120f81) feature maps looked like for it's second convolutional layer you could enter conv2 as the tf_activation variable.\n",
    "\n",
    "For an example of what feature map outputs look like, check out NVIDIA's results in their paper [End-to-End Deep Learning for Self-Driving Cars](https://devblogs.nvidia.com/parallelforall/deep-learning-self-driving-cars/) in the section Visualization of internal CNN State. NVIDIA was able to show that their network's inner weights had high activations to road boundary lines by comparing feature maps from an image with a clear path to one without. Try experimenting with a similar test to show that your trained network's weights are looking for interesting features, whether it's looking at differences in feature maps from images with or without a sign, or even what feature maps look like in a trained network vs a completely untrained one on the same sign image.\n",
    "\n",
    "<figure>\n",
    " <img src=\"visualize_cnn.png\" width=\"380\" alt=\"Combined Image\" />\n",
    " <figcaption>\n",
    " <p></p> \n",
    " <p style=\"text-align: center;\"> Your output should look something like this (above)</p> \n",
    " </figcaption>\n",
    "</figure>\n",
    " <p></p> \n"
   ]
  },
  {
   "cell_type": "code",
   "execution_count": null,
   "metadata": {
    "collapsed": true
   },
   "outputs": [],
   "source": [
    "### Visualize your network's feature maps here.\n",
    "### Feel free to use as many code cells as needed.\n",
    "\n",
    "# image_input: the test image being fed into the network to produce the feature maps\n",
    "# tf_activation: should be a tf variable name used during your training procedure that represents the calculated state of a specific weight layer\n",
    "# activation_min/max: can be used to view the activation contrast in more detail, by default matplot sets min and max to the actual min and max values of the output\n",
    "# plt_num: used to plot out multiple different weight feature map sets on the same block, just extend the plt number for each new feature map entry\n",
    "\n",
    "def outputFeatureMap(image_input, tf_activation, activation_min=-1, activation_max=-1 ,plt_num=1):\n",
    "    # Here make sure to preprocess your image_input in a way your network expects\n",
    "    # with size, normalization, ect if needed\n",
    "    # image_input =\n",
    "    # Note: x should be the same name as your network's tensorflow data placeholder variable\n",
    "    # If you get an error tf_activation is not defined it may be having trouble accessing the variable from inside a function\n",
    "    activation = tf_activation.eval(session=sess,feed_dict={x : image_input})\n",
    "    featuremaps = activation.shape[3]\n",
    "    plt.figure(plt_num, figsize=(15,15))\n",
    "    for featuremap in range(featuremaps):\n",
    "        plt.subplot(6,8, featuremap+1) # sets the number of feature maps to show on each row and column\n",
    "        plt.title('FeatureMap ' + str(featuremap)) # displays the feature map number\n",
    "        if activation_min != -1 & activation_max != -1:\n",
    "            plt.imshow(activation[0,:,:, featuremap], interpolation=\"nearest\", vmin =activation_min, vmax=activation_max, cmap=\"gray\")\n",
    "        elif activation_max != -1:\n",
    "            plt.imshow(activation[0,:,:, featuremap], interpolation=\"nearest\", vmax=activation_max, cmap=\"gray\")\n",
    "        elif activation_min !=-1:\n",
    "            plt.imshow(activation[0,:,:, featuremap], interpolation=\"nearest\", vmin=activation_min, cmap=\"gray\")\n",
    "        else:\n",
    "            plt.imshow(activation[0,:,:, featuremap], interpolation=\"nearest\", cmap=\"gray\")"
   ]
  }
 ],
 "metadata": {
  "anaconda-cloud": {},
  "kernelspec": {
   "display_name": "Python [conda root]",
   "language": "python",
   "name": "conda-root-py"
  },
  "language_info": {
   "codemirror_mode": {
    "name": "ipython",
    "version": 3
   },
   "file_extension": ".py",
   "mimetype": "text/x-python",
   "name": "python",
   "nbconvert_exporter": "python",
   "pygments_lexer": "ipython3",
   "version": "3.5.2"
  }
 },
 "nbformat": 4,
 "nbformat_minor": 1
}
